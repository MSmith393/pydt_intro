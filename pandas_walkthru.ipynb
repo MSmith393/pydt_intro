{
 "cells": [
  {
   "cell_type": "markdown",
   "metadata": {},
   "source": [
    "# Hello, notebook!!\n",
    "\n",
    "Welcome to jupyter (iPython) notebooks. \n",
    "\n",
    "## Notebooks\n",
    "### What is it?\n",
    "A notebook is an interactive coding session. It is a *recipe book* with instructions for a particular sequence. You can read the notebook and execute code snippets interactively to follow the recipe. You can also tweak the ingredients to make your own, new recipe!\n",
    "\n",
    "### No really though, what is it?\n",
    "jupyter notebooks runs a web server that interactively. It displays the contents of a `.ipynb` file, which can be edited dynamically. The server also runs an iPython session which can be used to run python commands. Let's figure out what's in a jupyter notebook file: "
   ]
  },
  {
   "cell_type": "code",
   "execution_count": null,
   "metadata": {},
   "outputs": [],
   "source": [
    "line_count = 0\n",
    "with open('pandas_walkthru.ipynb') as jupyter_file:\n",
    "    for line in jupyter_file:\n",
    "        line_count += 1\n",
    "        print(line)\n",
    "        \n",
    "        if line_count > 30:\n",
    "            break"
   ]
  },
  {
   "cell_type": "markdown",
   "metadata": {},
   "source": [
    "Cool! So this file `pandas_walkthru.ipynb` is a `JSON` object, that has markdown and code embedded inside. Everything we type here is automatically saved there and displayed in the web-browser. "
   ]
  },
  {
   "cell_type": "markdown",
   "metadata": {},
   "source": [
    "### So, why notebooks?\n",
    "\n",
    "If it isn't obvious yet, let me explain. Notebooks are neat because you can write notes alongside your code. You can tweak both interactively, then also see the results of your code on-the-fly. Then, you can share your notebook with someone else and they can follow the exact same steps as you. And (hopefully) they will get the same results. "
   ]
  },
  {
   "cell_type": "markdown",
   "metadata": {},
   "source": [
    "## Python for automation\n",
    "\n",
    "### What just happened there?\n",
    "Let's take a step back and see what we just did. While we were learning about jupyter notebooks we also learned something about python: it's *ridiculously* easy to read files in python. It takes only 3 lines of code:\n",
    "\n",
    "```python\n",
    "with open('a_file') as f:\n",
    "    for line in f:\n",
    "        do_something_to(line)\n",
    "```\n",
    "\n",
    "When we printed the file above I was kind and limited the output to a few lines, so that needed a bit of extra code. The cool thing is, most data is text-based so it's almost never more difficult than this to read a file. \n",
    "\n",
    "### Why we choose python \n",
    "But this is why we use python. It works like magic and you don't need to spend a lot of time writing code. When you use python you get access to the python community. This group of folks loves collaboration and open-source software, so they give you lots of advice and free code that does cool things. So let's do something cool. "
   ]
  },
  {
   "cell_type": "markdown",
   "metadata": {},
   "source": [
    "## Getting new stuff\n",
    "\n",
    "Most of us need to work with a lot of spreadsheets to do our jobs. Sometimes it's really redious to read a bunch of spreadsheets and extract the data we need. Luckily, python has us  covered here too. We'll need to make sure we have a few tools first. We'll be using a library called `pandas`. We'll need some data, too. Since most of our data is confidential or restricted, we'll be best off using a public data set. \n",
    "\n",
    "### Install software using `conda`\n",
    "\n",
    "If you need a new package, or want to make sure a library is installed, we use the command line tool `conda` that comes with our Anaconda installation. Let's get `pandas`. It's usually best to run `conda update --all` first, but we're running python right now, so we can't. \n"
   ]
  },
  {
   "cell_type": "code",
   "execution_count": null,
   "metadata": {},
   "outputs": [],
   "source": [
    "!conda install -y pandas"
   ]
  },
  {
   "cell_type": "markdown",
   "metadata": {},
   "source": [
    "Your output could vary, depending on which versions of things have been installed. Hopefully you saw that pandas came preinstalled. Anaconda comes with most of the basic analysis tools that we might want. If we want to see more info about a particular package:"
   ]
  },
  {
   "cell_type": "code",
   "execution_count": null,
   "metadata": {},
   "outputs": [],
   "source": [
    "!conda list pandas"
   ]
  },
  {
   "cell_type": "code",
   "execution_count": null,
   "metadata": {},
   "outputs": [],
   "source": [
    "!conda info pandas"
   ]
  },
  {
   "cell_type": "markdown",
   "metadata": {},
   "source": [
    "### Install software using pip\n",
    "\n",
    "`conda` is great for stable, well-defined libraries. It is well curated, so it has only the most common packages. If you want another open-source library, it will usually be found on the PyPI (Python Package Index). This is a public repository hosted by the Python Software Foundation, and anyone can package and submit their code there. To install, we use the tool `pip` (\"Pip Installs Packages\"). \n",
    "\n",
    "We're going to use a website [data.world](https://data.world) that allows users to share interesting data sets. "
   ]
  },
  {
   "cell_type": "code",
   "execution_count": null,
   "metadata": {},
   "outputs": [],
   "source": [
    "!pip install -I datadotworld"
   ]
  },
  {
   "cell_type": "markdown",
   "metadata": {},
   "source": [
    "Awesome. Now we have a module `datadotworld` that we can use to download data. First, we will need to set up an account on (data.world) and get an API access token. \n",
    "\n",
    "We will open a command line and run \n",
    "```code \n",
    "\n",
    "dw configure\n",
    "```\n",
    "Then paste our token. Now we should be all set"
   ]
  },
  {
   "cell_type": "markdown",
   "metadata": {},
   "source": [
    "## Working with pandas\n",
    "\n",
    "### Download from data.world"
   ]
  },
  {
   "cell_type": "code",
   "execution_count": null,
   "metadata": {
    "collapsed": true
   },
   "outputs": [],
   "source": [
    "import datadotworld as dw\n",
    "\n",
    "df = dw.load_dataset('mattschroyer/netflix-original-series').dataframes['netflix_originals_series']"
   ]
  },
  {
   "cell_type": "markdown",
   "metadata": {},
   "source": [
    "This will download the `netflix_originals_series` and load a `pandas.DataFrame` object`"
   ]
  },
  {
   "cell_type": "markdown",
   "metadata": {},
   "source": [
    "## Load locally\n",
    "\n",
    "Alternatively, \n",
    "\n",
    "if the data is local then you can load it using `pandas.read_excel()`\n",
    "Original data can be found at https://data.world/mattschroyer/netflix-original-series"
   ]
  },
  {
   "cell_type": "code",
   "execution_count": null,
   "metadata": {},
   "outputs": [],
   "source": [
    "ls"
   ]
  },
  {
   "cell_type": "code",
   "execution_count": null,
   "metadata": {
    "collapsed": true
   },
   "outputs": [],
   "source": [
    "import pandas as pd\n",
    "\n",
    "df = pd.read_excel('netflix_originals_series.xlsx')"
   ]
  },
  {
   "cell_type": "markdown",
   "metadata": {},
   "source": [
    "## Manipulating a `DataFrame`"
   ]
  },
  {
   "cell_type": "code",
   "execution_count": null,
   "metadata": {},
   "outputs": [],
   "source": [
    "type(df)"
   ]
  },
  {
   "cell_type": "markdown",
   "metadata": {},
   "source": [
    "A `DataFrame` is tablular data that has named headers. `pandas` provides a smooth interface to view, plot and analyze this data. "
   ]
  },
  {
   "cell_type": "code",
   "execution_count": null,
   "metadata": {},
   "outputs": [],
   "source": [
    "df.head()"
   ]
  },
  {
   "cell_type": "markdown",
   "metadata": {},
   "source": [
    "This printed the first 5 lines of the data. We can also print the last 10:"
   ]
  },
  {
   "cell_type": "code",
   "execution_count": null,
   "metadata": {},
   "outputs": [],
   "source": [
    "df.tail(10)"
   ]
  },
  {
   "cell_type": "code",
   "execution_count": null,
   "metadata": {},
   "outputs": [],
   "source": [
    "df.index"
   ]
  },
  {
   "cell_type": "code",
   "execution_count": null,
   "metadata": {},
   "outputs": [],
   "source": [
    "df.columns"
   ]
  },
  {
   "cell_type": "markdown",
   "metadata": {},
   "source": [
    "Let's try and sort the data:"
   ]
  },
  {
   "cell_type": "code",
   "execution_count": null,
   "metadata": {},
   "outputs": [],
   "source": [
    "df.sort_values(by='Premiere Date', ascending=False)"
   ]
  },
  {
   "cell_type": "markdown",
   "metadata": {},
   "source": [
    "### Querying\n",
    "\n",
    "`pandas` Supports high-level manipulation with a SQL-like syntax. This makes aggregation pretty easy. "
   ]
  },
  {
   "cell_type": "code",
   "execution_count": null,
   "metadata": {},
   "outputs": [],
   "source": [
    "df_by_year = df.groupby('Premiere_Year').count()\n",
    "df_by_year"
   ]
  },
  {
   "cell_type": "code",
   "execution_count": null,
   "metadata": {},
   "outputs": [],
   "source": [
    "df.groupby(['Major_Genre', 'Subgenre']).size()"
   ]
  },
  {
   "cell_type": "markdown",
   "metadata": {},
   "source": [
    "### Plotting \n",
    "\n",
    "Or maybe we want a histogram?"
   ]
  },
  {
   "cell_type": "code",
   "execution_count": null,
   "metadata": {},
   "outputs": [],
   "source": [
    "%matplotlib inline \n",
    "df.hist(column='Premiere_Year')"
   ]
  },
  {
   "cell_type": "markdown",
   "metadata": {},
   "source": [
    "## More information\n",
    "\n",
    "This tutorial is an extremely basic overview of the kinds of things you can do in python. For more information about using pandas to read and write tabular data, check out [10 Minutes to pandas](https://pandas.pydata.org/pandas-docs/stable/10min.html). In order to work with your own data you will need to get down into the weeds, but you will be able to write a script that can be replayed over and over again. Who knows how much time you will save? "
   ]
  }
 ],
 "metadata": {
  "kernelspec": {
   "display_name": "Python 3",
   "language": "python",
   "name": "python3"
  },
  "language_info": {
   "codemirror_mode": {
    "name": "ipython",
    "version": 3
   },
   "file_extension": ".py",
   "mimetype": "text/x-python",
   "name": "python",
   "nbconvert_exporter": "python",
   "pygments_lexer": "ipython3",
   "version": "3.6.2"
  }
 },
 "nbformat": 4,
 "nbformat_minor": 2
}
